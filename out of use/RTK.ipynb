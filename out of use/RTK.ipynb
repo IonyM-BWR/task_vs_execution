{
 "cells": [
  {
   "cell_type": "code",
   "execution_count": 1,
   "metadata": {},
   "outputs": [],
   "source": [
    "import matplotlib.pyplot as plt\n",
    "import math\n",
    "import pandas as pd\n",
    "import numpy as np\n",
    "import json\n",
    "# from matplotlib.figure import Figure\n",
    "%matplotlib widget"
   ]
  },
  {
   "cell_type": "code",
   "execution_count": 2,
   "metadata": {},
   "outputs": [],
   "source": [
    "csv_df = pd.read_csv('HF_1215_full.csv')#change name\n"
   ]
  },
  {
   "cell_type": "markdown",
   "metadata": {},
   "source": [
    "# Initializing arrays needed\n"
   ]
  },
  {
   "cell_type": "code",
   "execution_count": 3,
   "metadata": {},
   "outputs": [],
   "source": [
    "# init arrays\n",
    "reference_point =[]\n",
    "time_arr = []\n",
    "x_arr = []\n",
    "y_arr = []\n",
    "x_arr_latlong= []\n",
    "y_arr_latlong= []\n",
    "cov_x = []\n",
    "cov_y = []\n",
    "x_speed_cov = []\n",
    "y_speed_cov = []\n",
    "speed_y = []\n",
    "speed_x = []\n",
    "status_flags = []\n",
    "gps_status = []\n",
    "speed_tot = []\n",
    "cov_net = []\n",
    "counter_arr =[]\n",
    "pos_net_xy=[]\n",
    "roll_arr =[]\n",
    "roll_degrees_arr=[]\n",
    "pitch_arr = []\n",
    "yaw_arr = []\n",
    "heading_arr = []\n",
    "activity_type = []\n",
    "\n",
    "#warning flags\n",
    "gq7_roll_pitch_warning = []\n",
    "gq7_heading_warning = []\n",
    "gq7_position_warning = []\n",
    "gq7_velocity_warning = []\n",
    "gq7_imu_bias_warning = []\n",
    "gq7_gnss_clk_warning = []\n",
    "gq7_antenna_lever_arm_warning = []\n",
    "gq7_mounting_transform_warning = []\n",
    "gq7_time_sync_warning = []\n",
    "gq7_solution_error = []\n",
    "\n",
    "#RTK\n",
    "integer_fix = []\n",
    "differential_corrections = []\n",
    "tight_coupling = []\n",
    "count_arr = 0\n",
    "integer_fix_count = 0\n",
    "differential_corrections_count = 0\n",
    "dongle_signal_quality = []\n",
    "dongle_sum =0\n",
    "task_waypoints_array = []\n",
    "task_waypoints_x_array = []\n",
    "task_waypoints_y_array = []\n",
    "task_waypoints_lat_array = []\n",
    "task_waypoints_lon_array = []\n",
    "high_res_path = []\n",
    "high_res_path_x = []\n",
    "high_res_path_y = []"
   ]
  },
  {
   "cell_type": "markdown",
   "metadata": {},
   "source": [
    "# Populate Arrays"
   ]
  },
  {
   "cell_type": "code",
   "execution_count": 4,
   "metadata": {},
   "outputs": [],
   "source": [
    "def populate_arrays(file):\n",
    "    time_arr.clear()\n",
    "    x_arr_latlong.clear()\n",
    "    y_arr_latlong.clear()\n",
    "    cov_x.clear()\n",
    "    cov_y.clear()\n",
    "    x_speed_cov.clear()\n",
    "    y_speed_cov.clear()\n",
    "    speed_y.clear()\n",
    "    cov_net.clear()\n",
    "    speed_x.clear()\n",
    "    status_flags.clear()\n",
    "    gps_status.clear()\n",
    "    counter_arr.clear()\n",
    "    speed_tot.clear()\n",
    "    heading_arr.clear()\n",
    "    activity_type.clear()\n",
    "    \n",
    "    \n",
    "    for ind, entry in enumerate(file.values):\n",
    "        if(entry[1] != 0 and entry[2] != 0):\n",
    "            counter_arr.append(ind)\n",
    "            time_arr.append(entry[0])\n",
    "            x_arr_latlong.append(entry[1]/100)\n",
    "            y_arr_latlong.append(entry[2]/100)\n",
    "            cov_x.append(entry[9])\n",
    "            cov_y.append(entry[10])\n",
    "            cov_net.append(math.sqrt(entry[3]**2+entry[4]**2))\n",
    "            gps_status.append(entry[11])\n",
    "            status_flags.append(entry[12])\n",
    "            speed_x.append(float(entry[14]))\n",
    "            x_speed_cov.append(entry[15])\n",
    "            speed_y.append(float(entry[16]))\n",
    "            y_speed_cov.append(entry[17])\n",
    "            speed_tot.append(math.sqrt(entry[14]**2 + entry[16]**2)) \n",
    "    \n",
    "    \n",
    "def populate_arrays_rtk(file):\n",
    "    time_arr.clear()\n",
    "    x_arr_latlong.clear()\n",
    "    y_arr_latlong.clear()\n",
    "    cov_x.clear()\n",
    "    cov_y.clear()\n",
    "    x_speed_cov.clear()\n",
    "    y_speed_cov.clear()\n",
    "    speed_y.clear()\n",
    "    cov_net.clear()\n",
    "    speed_x.clear()\n",
    "    status_flags.clear()\n",
    "    gps_status.clear()\n",
    "    counter_arr.clear()\n",
    "    speed_tot.clear()\n",
    "    integer_fix.clear()\n",
    "    tight_coupling.clear()\n",
    "    differential_corrections.clear()\n",
    "    pitch_arr.clear()\n",
    "    yaw_arr.clear()\n",
    "    integer_fix_count = 0\n",
    "    differential_corrections_count = 0\n",
    "    count_arr = 0\n",
    "    dongle_sum =0\n",
    "    \n",
    "    for ind, entry in enumerate(file.values):\n",
    "        if(entry[1] != 0 and entry[2] != 0):\n",
    "            count_arr += 1\n",
    "            counter_arr.append(ind)\n",
    "            time_arr.append(entry[0])\n",
    "            x_arr_latlong.append(entry[1])\n",
    "            y_arr_latlong.append(entry[2])\n",
    "            heading_arr.append(entry[3])\n",
    "            cov_x.append(entry[10])\n",
    "            cov_y.append(entry[11])\n",
    "            cov_net.append(math.sqrt(entry[10]**2+entry[11]**2))\n",
    "            gps_status.append(entry[13])\n",
    "            status_flags.append(entry[14])\n",
    "            speed_x.append(float(entry[17]))\n",
    "            x_speed_cov.append(entry[18])\n",
    "            speed_y.append(float(entry[19]))\n",
    "            y_speed_cov.append(entry[20])\n",
    "            speed_tot.append(math.sqrt(entry[15]**2 + entry[17]**2))\n",
    "            integer_fix.append(entry[21] or entry[27])\n",
    "            tight_coupling.append(entry[25])\n",
    "            differential_corrections.append(entry[22])\n",
    "            if(entry[22] ==1):\n",
    "                differential_corrections_count += 1\n",
    "            if(entry[21] or entry[27] == 1):\n",
    "                integer_fix_count += 1\n",
    "            roll,pitch,yaw = euler_from_quaternion(entry[3], entry[4], entry[5], entry[6])\n",
    "            roll_arr.append(roll)\n",
    "            pitch_arr.append(pitch)\n",
    "            roll_degrees_arr.append(math.degrees(roll))\n",
    "            yaw_arr.append(yaw)\n",
    "            dongle_signal_quality.append(entry[38])\n",
    "            dongle_sum += entry[38]\n",
    "    \n",
    "    print(\"Percentage of time spent with integer fix: \" + str(integer_fix_count/count_arr)) \n",
    "    print(\"Percentage of time spent with differential corections: \" + str(differential_corrections_count/count_arr)) \n",
    "    print(\"average donge signal quality: \" + str(dongle_sum/count_arr))\n",
    "\n",
    "def init_ref_point():\n",
    "    reference_point.append(x_arr_latlong[0])\n",
    "    reference_point.append(y_arr_latlong[0])\n",
    "\n",
    "def generate_xy():\n",
    "    x_arr.clear()\n",
    "    y_arr.clear()\n",
    "    pos_net_xy.clear()\n",
    "\n",
    "    for i in range(len(x_arr_latlong)):\n",
    "        x,y = ll2xy(reference_point[0], reference_point[1], x_arr_latlong[i], y_arr_latlong[i])\n",
    "        x_arr.append(x)\n",
    "        y_arr.append(y)\n",
    "        pos_net_xy.append(math.sqrt(x**2 + y**2))\n",
    "        \n",
    "    for i in range(len(task_waypoints_array)):\n",
    "        x,y = ll2xy(reference_point[0], reference_point[1], task_waypoints_array[i][0], task_waypoints_array[i][1])\n",
    "        task_waypoints_x_array.append(x)\n",
    "        task_waypoints_y_array.append(y)\n",
    "        \n",
    "def detwarningarrs():\n",
    "    gq7_roll_pitch_warning.clear()\n",
    "    gq7_heading_warning.clear()\n",
    "    gq7_position_warning.clear()\n",
    "    gq7_velocity_warning.clear()\n",
    "    gq7_imu_bias_warning.clear()\n",
    "    gq7_gnss_clk_warning.clear()\n",
    "    gq7_antenna_lever_arm_warning.clear()\n",
    "    gq7_mounting_transform_warning.clear()\n",
    "    gq7_time_sync_warning.clear()\n",
    "    gq7_solution_error.clear()\n",
    "    count_antennae_warnings = 0\n",
    "    count_arr = 0\n",
    "    \n",
    "    for j in status_flags:\n",
    "\n",
    "        bin_num = int2bin(j)\n",
    "        bin_array = list(bin_num)\n",
    "#         print(bin_array)\n",
    "        bin_array.reverse()\n",
    "#         print(bin_array)\n",
    "        for count, value in enumerate(bin_array):\n",
    "            count_arr += 1\n",
    "            if(count == 2):\n",
    "                gq7_roll_pitch_warning.append(value)\n",
    "            if(count == 3):\n",
    "                gq7_heading_warning.append(value)\n",
    "            if(count == 4):\n",
    "                gq7_position_warning.append(value)\n",
    "            if(count == 5):\n",
    "                gq7_velocity_warning.append(value)\n",
    "            if(count == 6):\n",
    "                gq7_imu_bias_warning.append(value)\n",
    "            if(count == 7):\n",
    "                gq7_gnss_clk_warning.append(value)\n",
    "            if(count == 8):\n",
    "                gq7_antenna_lever_arm_warning.append(value)\n",
    "                count_antennae_warnings +=1\n",
    "            if(count == 9):\n",
    "                gq7_mounting_transform_warning.append(value)\n",
    "            if(count == 10):\n",
    "                gq7_time_sync_warning.append(value)\n",
    "            if(count > 11 and count < 16):\n",
    "                gq7_solution_error.append(value)\n",
    "                \n",
    "    \n",
    "def euler_from_quaternion(x, y, z, w):\n",
    "        \"\"\"\n",
    "        Convert a quaternion into euler angles (roll, pitch, yaw)\n",
    "        roll is rotation around x in radians (counterclockwise)\n",
    "        pitch is rotation around y in radians (counterclockwise)\n",
    "        yaw is rotation around z in radians (counterclockwise)\n",
    "        \"\"\"\n",
    "        t0 = +2.0 * (w * x + y * z)\n",
    "        t1 = +1.0 - 2.0 * (x * x + y * y)\n",
    "        roll_x = math.atan2(t0, t1)\n",
    "     \n",
    "        t2 = +2.0 * (w * y - z * x)\n",
    "        t2 = +1.0 if t2 > +1.0 else t2\n",
    "        t2 = -1.0 if t2 < -1.0 else t2\n",
    "        pitch_y = math.asin(t2)\n",
    "     \n",
    "        t3 = +2.0 * (w * z + x * y)\n",
    "        t4 = +1.0 - 2.0 * (y * y + z * z)\n",
    "        yaw_z = math.atan2(t3, t4)\n",
    "        return roll_x, pitch_y, yaw_z # in radians\n",
    "    \n",
    "def parse_json_task(task_name):\n",
    "        task_waypoints_array.clear()\n",
    "        task_waypoints_x_array.clear()\n",
    "        task_waypoints_y_array.clear()\n",
    "        task_waypoints_lat_array.clear()\n",
    "        task_waypoints_lon_array.clear()\n",
    "        high_res_path_y.clear()\n",
    "        high_res_path_x.clear()\n",
    "        high_res_path.clear()\n",
    "        with open('/app/tasks/' + task_name + '.json') as f:\n",
    "            file = json.load(f)\n",
    "        payload = file[\"payload\"]\n",
    "        data = payload[\"data\"]\n",
    "        vehicle_task_plan = data[\"vehicleTaskPlan\"]\n",
    "        route = vehicle_task_plan[\"route\"]\n",
    "        waypoints = route[\"waypoints\"]\n",
    "        previous_side = \"\"\n",
    "        for i, wp in enumerate(waypoints):\n",
    "            geometries = wp[\"geometries\"]\n",
    "            for j, geometry in enumerate(geometries):\n",
    "                coordinates = geometry[\"coordinates\"]\n",
    "                for k, coordinate in enumerate(coordinates):\n",
    "                    x = coordinate[\"lat\"]\n",
    "                    y = coordinate[\"lng\"]\n",
    "                    task_waypoints_lat_array.append(x)\n",
    "                    task_waypoints_lon_array.append(y)\n",
    "                    point = [x,y]\n",
    "                    task_waypoints_array.append(point)     \n",
    "                    \n",
    "def get_stamped_pose_array(stamped_pose1, stamped_pose2, points_per_meter):\n",
    "        \"\"\"\n",
    "        PARAMETERS\n",
    "        Generate an array of StampedPose objects with evenly distributed stamped_poses between stamped_pose1 and stamped_pose2, including stamped_pose1 but not stamped_pose2\n",
    "        param pose1:                Pose() initial pose\n",
    "        param pose2:                Pose() pose not included\n",
    "        params points_per_meter:    wp/m\n",
    "        \"\"\"\n",
    "        x1, y1 = stamped_pose1[0], stamped_pose1[1]\n",
    "        x2, y2 = stamped_pose2[0], stamped_pose2[1]\n",
    "        L = np.hypot(np.abs(x2-x1), np.abs(y2-y1))\n",
    "        intermediate_pts = int((points_per_meter*L)-2)\n",
    "        pts_np = np.linspace([stamped_pose1[0], stamped_pose1[1]],[stamped_pose2[0], stamped_pose2[1]], num=intermediate_pts+2,endpoint=False)\n",
    "        for i in pts_np:\n",
    "            high_res_path_x.append(i[0])\n",
    "            high_res_path_y.append(i[1])\n",
    "#          \n",
    "#             for j in i:\n",
    "                \n",
    "#                 \n",
    "                        \n",
    "        \n",
    "        \n",
    "#         high_res_path_x.append(pts_np[0][0])\n",
    "#         high_res_path_x.append(pts_np[0][1])"
   ]
  },
  {
   "cell_type": "markdown",
   "metadata": {},
   "source": [
    "\n",
    "# Plot Functions"
   ]
  },
  {
   "cell_type": "code",
   "execution_count": 5,
   "metadata": {},
   "outputs": [],
   "source": [
    "def plotpath(x,y,status,flag,num):\n",
    "    x_status = []\n",
    "    y_status = []\n",
    "    x_flag = []\n",
    "    y_flag = []\n",
    "    x_gq7_antenna_lever_arm_warning = []\n",
    "    y_gq7_antenna_lever_arm_warning = []\n",
    "    for i in range(0,len(status)):\n",
    "        if (integer_fix[i] != 1):\n",
    "            x_status.append(x[i])\n",
    "            y_status.append(y[i])\n",
    "        if (gq7_position_warning[i] == 1):\n",
    "            x_flag.append(x[i])\n",
    "            y_flag.append(y[i])\n",
    "       \n",
    "    plt.plot(x,y,'.-')\n",
    "    plt.plot(high_res_path_x, high_res_path_y, 'or')#,markersize=15)\n",
    "#     plt.plot(x_flag, y_flag,'xg')#,markersize=10)\n",
    "#     plt.plot(x_status, y_status,'xr')#,markersize=10)\n",
    "    plt.xlabel('x [m]')\n",
    "    plt.ylabel('y [m]')\n",
    "    plt.legend(('localization 1','Task Route Points','not integer fix', 'localization 2'))\n",
    "    \n",
    "    \n",
    "def plotpathclean():\n",
    "    plt.plot(x_arr_latlong, y_arr_latlong,'.-')\n",
    "    plt.plot(high_res_path_x, high_res_path_y, 'or')#,markersize=15)\n",
    "    plt.xlabel('lat')\n",
    "    plt.ylabel('lon')\n",
    "    plt.legend(('localization 1','Task Route Points'))\n",
    "    \n",
    "def create_plots_vel_covel():\n",
    "    fix, axis = plt.subplots(2,2)\n",
    "    axis[0][0].plot(speed_x)\n",
    "    axis[1][0].plot(x_speed_cov)\n",
    "    axis[0][1].plot(speed_y)\n",
    "    axis[1][1].plot(y_speed_cov)\n",
    "    \n",
    "    axis[0][0].set(xlabel=\"x velocity\", ylabel=\"m/s\")\n",
    "    axis[1][0].set(xlabel=\"x velocity covariance\", ylabel=\"\")\n",
    "    axis[0][1].set(xlabel=\"y velocity\", ylabel=\"m/s\")\n",
    "    axis[1][1].set(xlabel=\"y velocity covariance\", ylabel=\"\")\n",
    "\n",
    "def plotspeed():\n",
    "    plt.plot(speed_tot)\n",
    "    plt.xlabel('points')\n",
    "    plt.ylabel('m/s') \n",
    "    plt.title('speed')\n",
    "    \n",
    "def create_plots_pos_cov():\n",
    "    fix, axis = plt.subplots(3,2)\n",
    "    \n",
    "    axis[0][0].plot(x_arr_latlong)\n",
    "    axis[1][0].plot(x_arr)\n",
    "    axis[2][0].plot(cov_x)\n",
    "    axis[0][1].plot(y_arr_latlong)\n",
    "    axis[1][1].plot(y_arr)\n",
    "    axis[2][1].plot(cov_y)\n",
    "    \n",
    "    axis[0][0].set(xlabel=\"lat\", ylabel=\"\")\n",
    "    axis[1][0].set(xlabel=\"x\", ylabel=\"m\")\n",
    "    axis[2][0].set(xlabel=\"covariance x\", ylabel=\"\")\n",
    "    axis[0][1].set(xlabel=\"lon\", ylabel=\"m/s\")\n",
    "    axis[1][1].set(xlabel=\"y\", ylabel=\"m/s\")\n",
    "    axis[2][1].set(xlabel=\"covariance y\", ylabel=\"\")\n",
    "    \n",
    "def create_plots_vel_velwarning():\n",
    "    fix, axis = plt.subplots(2,1)\n",
    "    axis[0].plot(speed_tot)\n",
    "    axis[1].plot(gq7_velocity_warning)\n",
    "    \n",
    "    axis[0].set(xlabel=\"velocity\", ylabel=\"m/s\")\n",
    "    axis[1].set(xlabel=\"velocity warning\", ylabel=\"\")\n",
    "    \n",
    "def ll2xy(ref_lat, ref_lon, lat, lon):\n",
    "        const_Re = 6371000 \n",
    "        x = (float(lat) - float(ref_lat)) * (math.pi / 180) * const_Re\n",
    "        y = (float(lon) - float(ref_lon)) * (math.pi / 180) * const_Re * math.cos(float(lat) * math.pi / 180)\n",
    "        \n",
    "        return x,y\n",
    "    \n",
    "def int2bin(number):\n",
    "    return \"{0:015b}\".format(int(number))\n",
    "\n",
    "                \n",
    "def plotcovandwarnings():\n",
    "    fix, axis = plt.subplots(3,1)\n",
    "    axis[0].plot(cov_net)\n",
    "    axis[1].plot(gq7_velocity_warning)\n",
    "    axis[2].plot(gq7_position_warning)\n",
    "    \n",
    "    axis[0].set(xlabel=\"cov_net\", ylabel=\"\")\n",
    "    axis[1].set(xlabel=\"velocity warning\", ylabel=\"\")\n",
    "    axis[2].set(xlabel=\"pos warning\", ylabel=\"\")\n",
    "    \n",
    "def plotallwarnings():\n",
    "    fix, axis = plt.subplots(10,1,figsize=(15,15))\n",
    "    plt.ylim([0,1])\n",
    "    \n",
    "    axis[0].plot(gq7_roll_pitch_warning)\n",
    "    axis[1].plot(gq7_heading_warning)\n",
    "    axis[2].plot(gq7_position_warning)\n",
    "    axis[3].plot(gq7_velocity_warning)\n",
    "    axis[4].plot(gq7_imu_bias_warning)\n",
    "    axis[5].plot(gq7_gnss_clk_warning)\n",
    "    axis[6].plot(gq7_antenna_lever_arm_warning)\n",
    "    axis[7].plot(gq7_mounting_transform_warning)\n",
    "    axis[8].plot(gq7_time_sync_warning)\n",
    "    axis[9].plot(gq7_solution_error)\n",
    "    \n",
    "    axis[0].set(xlabel=\"gq7_roll_pitch_warning\", ylabel=\"gq7_roll_pitch_warning\")\n",
    "    axis[1].set(xlabel=\"gq7_heading_warning\", ylabel=\"gq7_heading_warning\")\n",
    "    axis[2].set(xlabel=\"gq7_position_warning\", ylabel=\"gq7_position_warning\")\n",
    "    axis[3].set(xlabel=\"gq7_velocity_warning\", ylabel=\"gq7_velocity_warning\")\n",
    "    axis[4].set(xlabel=\"gq7_imu_bias_warning\", ylabel=\"gq7_imu_bias_warning\")\n",
    "    axis[5].set(xlabel=\"gq7_gnss_clk_warning\", ylabel=\"gq7_gnss_clk_warning\")\n",
    "    axis[6].set(xlabel=\"gq7_antenna_lever_arm_warning\", ylabel=\"gq7_antenna_lever_arm_warning\")\n",
    "    axis[7].set(xlabel=\"gq7_mounting_transform_warning\", ylabel=\"gq7_mounting_transform_warning\")\n",
    "    axis[8].set(xlabel=\"gq7_time_sync_warning\", ylabel=\"gq7_time_sync_warning\")\n",
    "    axis[9].set(xlabel=\"gq7_solution_error\", ylabel=\"gq7_solution_error\")\n",
    "    \n",
    "def dist(x1,y1,x2,y2):\n",
    "    return math.sqrt((x2-x1)**2+(y2-y1)**2)\n",
    "\n",
    "def sendFileToPopulateAndDetWarnings(name):\n",
    "    if len(name.columns)>20:\n",
    "        populate_arrays_rtk(name)\n",
    "    else:\n",
    "        populate_arrays(name)\n",
    "\n",
    "    detwarningarrs()  #Populate warning flags"
   ]
  },
  {
   "cell_type": "markdown",
   "metadata": {},
   "source": [
    "# updated firmware and drivers"
   ]
  },
  {
   "cell_type": "code",
   "execution_count": 6,
   "metadata": {},
   "outputs": [
    {
     "name": "stdout",
     "output_type": "stream",
     "text": [
      "Percentage of time spent with integer fix: 1.0\n",
      "Percentage of time spent with differential corections: 1.0\n",
      "average donge signal quality: 0.0\n"
     ]
    }
   ],
   "source": [
    "sendFileToPopulateAndDetWarnings(csv_df)\n",
    "parse_json_task(\"current_task_BIN_multipoints_full\")\n",
    "init_ref_point()\n",
    "generate_xy()\n",
    "\n",
    "for i in range(len(task_waypoints_x_array)-1):\n",
    "    p1 = [task_waypoints_x_array[i], task_waypoints_y_array[i]]\n",
    "    p2 = [task_waypoints_x_array[i+1], task_waypoints_y_array[i+1]]\n",
    "    get_stamped_pose_array(p1, p2, 4)\n",
    "\n",
    "\n",
    "# print(len(high_res_path_y))\n",
    "# print(len(task_waypoints_lat_array))"
   ]
  },
  {
   "cell_type": "markdown",
   "metadata": {},
   "source": [
    "# Speed"
   ]
  },
  {
   "cell_type": "code",
   "execution_count": 7,
   "metadata": {
    "scrolled": false
   },
   "outputs": [
    {
     "data": {
      "application/vnd.jupyter.widget-view+json": {
       "model_id": "ca65e5618fac44568fc8c47e333e5148",
       "version_major": 2,
       "version_minor": 0
      },
      "text/plain": [
       "Canvas(toolbar=Toolbar(toolitems=[('Home', 'Reset original view', 'home', 'home'), ('Back', 'Back to previous …"
      ]
     },
     "metadata": {},
     "output_type": "display_data"
    },
    {
     "data": {
      "application/vnd.jupyter.widget-view+json": {
       "model_id": "86945bdc63ae43619e62f0f32e0dba0f",
       "version_major": 2,
       "version_minor": 0
      },
      "text/plain": [
       "Canvas(toolbar=Toolbar(toolitems=[('Home', 'Reset original view', 'home', 'home'), ('Back', 'Back to previous …"
      ]
     },
     "metadata": {},
     "output_type": "display_data"
    }
   ],
   "source": [
    "create_plots_vel_covel()\n",
    "\n",
    "plt.figure()\n",
    "plotspeed()"
   ]
  },
  {
   "cell_type": "markdown",
   "metadata": {},
   "source": [
    "## Position and cov"
   ]
  },
  {
   "cell_type": "code",
   "execution_count": 8,
   "metadata": {
    "scrolled": false
   },
   "outputs": [
    {
     "data": {
      "application/vnd.jupyter.widget-view+json": {
       "model_id": "6511044186c243bfad40e7cc27d2f49e",
       "version_major": 2,
       "version_minor": 0
      },
      "text/plain": [
       "Canvas(toolbar=Toolbar(toolitems=[('Home', 'Reset original view', 'home', 'home'), ('Back', 'Back to previous …"
      ]
     },
     "metadata": {},
     "output_type": "display_data"
    }
   ],
   "source": [
    "create_plots_pos_cov()"
   ]
  },
  {
   "cell_type": "code",
   "execution_count": 9,
   "metadata": {},
   "outputs": [
    {
     "data": {
      "application/vnd.jupyter.widget-view+json": {
       "model_id": "4f68f548fd3d4a35941802cf98286593",
       "version_major": 2,
       "version_minor": 0
      },
      "text/plain": [
       "Canvas(toolbar=Toolbar(toolitems=[('Home', 'Reset original view', 'home', 'home'), ('Back', 'Back to previous …"
      ]
     },
     "metadata": {},
     "output_type": "display_data"
    }
   ],
   "source": [
    "plotallwarnings()"
   ]
  },
  {
   "cell_type": "markdown",
   "metadata": {},
   "source": [
    "# warning plots"
   ]
  },
  {
   "cell_type": "code",
   "execution_count": 10,
   "metadata": {},
   "outputs": [
    {
     "data": {
      "application/vnd.jupyter.widget-view+json": {
       "model_id": "596ce8ae648f4e0d9215d75d9142b891",
       "version_major": 2,
       "version_minor": 0
      },
      "text/plain": [
       "Canvas(toolbar=Toolbar(toolitems=[('Home', 'Reset original view', 'home', 'home'), ('Back', 'Back to previous …"
      ]
     },
     "metadata": {},
     "output_type": "display_data"
    }
   ],
   "source": [
    "create_plots_vel_velwarning()"
   ]
  },
  {
   "cell_type": "code",
   "execution_count": 11,
   "metadata": {},
   "outputs": [
    {
     "data": {
      "application/vnd.jupyter.widget-view+json": {
       "model_id": "a2f257bfd65541f5958fc21652a26b16",
       "version_major": 2,
       "version_minor": 0
      },
      "text/plain": [
       "Canvas(toolbar=Toolbar(toolitems=[('Home', 'Reset original view', 'home', 'home'), ('Back', 'Back to previous …"
      ]
     },
     "metadata": {},
     "output_type": "display_data"
    }
   ],
   "source": [
    "plotcovandwarnings()"
   ]
  },
  {
   "cell_type": "code",
   "execution_count": 12,
   "metadata": {},
   "outputs": [
    {
     "data": {
      "application/vnd.jupyter.widget-view+json": {
       "model_id": "9597879b37c849fdb0f0df56a0488b79",
       "version_major": 2,
       "version_minor": 0
      },
      "text/plain": [
       "Canvas(toolbar=Toolbar(toolitems=[('Home', 'Reset original view', 'home', 'home'), ('Back', 'Back to previous …"
      ]
     },
     "metadata": {},
     "output_type": "display_data"
    },
    {
     "data": {
      "text/plain": [
       "[<matplotlib.lines.Line2D at 0x7f63af857700>]"
      ]
     },
     "execution_count": 12,
     "metadata": {},
     "output_type": "execute_result"
    }
   ],
   "source": [
    "plt.figure()\n",
    "plt.plot(gps_status)"
   ]
  },
  {
   "cell_type": "code",
   "execution_count": 13,
   "metadata": {},
   "outputs": [
    {
     "data": {
      "application/vnd.jupyter.widget-view+json": {
       "model_id": "6f38fbf8d0054ff9ba33e80f5c6e72fb",
       "version_major": 2,
       "version_minor": 0
      },
      "text/plain": [
       "Canvas(toolbar=Toolbar(toolitems=[('Home', 'Reset original view', 'home', 'home'), ('Back', 'Back to previous …"
      ]
     },
     "metadata": {},
     "output_type": "display_data"
    },
    {
     "data": {
      "text/plain": [
       "[<matplotlib.lines.Line2D at 0x7f63af81a8e0>]"
      ]
     },
     "execution_count": 13,
     "metadata": {},
     "output_type": "execute_result"
    }
   ],
   "source": [
    "plt.figure()\n",
    "plt.plot(status_flags)"
   ]
  },
  {
   "cell_type": "markdown",
   "metadata": {},
   "source": [
    "# path plot"
   ]
  },
  {
   "cell_type": "code",
   "execution_count": 14,
   "metadata": {},
   "outputs": [
    {
     "data": {
      "application/vnd.jupyter.widget-view+json": {
       "model_id": "2d7111a00d28484fb5e78230d277ba31",
       "version_major": 2,
       "version_minor": 0
      },
      "text/plain": [
       "Canvas(toolbar=Toolbar(toolitems=[('Home', 'Reset original view', 'home', 'home'), ('Back', 'Back to previous …"
      ]
     },
     "metadata": {},
     "output_type": "display_data"
    }
   ],
   "source": [
    "# ind = slice(5350, len(x_arr_latlong)-0) #T101--B22-2021-08-18\n",
    "#ind = slice(6850, len(x_arr_latlong)-800) #T101--B22-2021-08-30\n",
    "#ind = slice(6000, len(x_arr_latlong)-2600) #13-10-21\n",
    "plt.figure()\n",
    "# ind1 = slice(len(x_arr_latlong))\n",
    "ind2 = slice(len(x_arr_latlong))\n",
    "x_short, y_short, status_short, flag_short, counter_arr_short = x_arr[ind2], y_arr[ind2], gps_status[ind2], status_flags[ind2], counter_arr[ind2]\n",
    "arrx = np.array(counter_arr_short)\n",
    "plotpath(x_short,y_short,status_short,flag_short, 1)\n",
    "\n",
    "\n",
    "\n",
    "# m, b = np.polyfit(x_short, y_short, 1)\n",
    "# print(m)\n",
    "# print(b)\n",
    "#compare = pd.read_csv('13-10-21/TwinOaksCS_S-6.csv')#change name\n",
    "#sendFileToPopulateAndDetWarnings(compare)\n",
    "#generate_xy()\n",
    "#x_short, y_short, status_short, flag_short = x_arr[ind1], y_arr[ind1], gps_status[ind1], status_flags[ind1]\n",
    "#plotpath(x_short,y_short,status_short,flag_short, 2)\n",
    "data = np.linspace(-2.3,0)\n",
    "#plt.plot(data, data*m + b)\n",
    "\n",
    "plt.grid(which='both')\n",
    "plt.show()"
   ]
  },
  {
   "cell_type": "code",
   "execution_count": 15,
   "metadata": {},
   "outputs": [
    {
     "data": {
      "application/vnd.jupyter.widget-view+json": {
       "model_id": "95c423c135e94a2286b7b3532c9486c7",
       "version_major": 2,
       "version_minor": 0
      },
      "text/plain": [
       "Canvas(toolbar=Toolbar(toolitems=[('Home', 'Reset original view', 'home', 'home'), ('Back', 'Back to previous …"
      ]
     },
     "metadata": {},
     "output_type": "display_data"
    }
   ],
   "source": [
    "plt.figure()\n",
    "plotpathclean()"
   ]
  },
  {
   "cell_type": "code",
   "execution_count": 16,
   "metadata": {},
   "outputs": [
    {
     "data": {
      "application/vnd.jupyter.widget-view+json": {
       "model_id": "dff35ae3096c4ac5b0b189d3163fc3fd",
       "version_major": 2,
       "version_minor": 0
      },
      "text/plain": [
       "Canvas(toolbar=Toolbar(toolitems=[('Home', 'Reset original view', 'home', 'home'), ('Back', 'Back to previous …"
      ]
     },
     "metadata": {},
     "output_type": "display_data"
    },
    {
     "data": {
      "text/plain": [
       "Text(0, 0.5, 'quality')"
      ]
     },
     "execution_count": 16,
     "metadata": {},
     "output_type": "execute_result"
    }
   ],
   "source": [
    "plt.figure()\n",
    "plt.plot(counter_arr, dongle_signal_quality)\n",
    "plt.title('dongal signal quality over time  - 19/10/21 USA')\n",
    "plt.xlabel('points')\n",
    "plt.ylabel('quality')"
   ]
  },
  {
   "cell_type": "code",
   "execution_count": 17,
   "metadata": {},
   "outputs": [
    {
     "data": {
      "application/vnd.jupyter.widget-view+json": {
       "model_id": "3187f8af4ccd47f689f759aa07d03085",
       "version_major": 2,
       "version_minor": 0
      },
      "text/plain": [
       "Canvas(toolbar=Toolbar(toolitems=[('Home', 'Reset original view', 'home', 'home'), ('Back', 'Back to previous …"
      ]
     },
     "metadata": {},
     "output_type": "display_data"
    },
    {
     "data": {
      "text/plain": [
       "Text(0, 0.5, 'integer fix')"
      ]
     },
     "execution_count": 17,
     "metadata": {},
     "output_type": "execute_result"
    }
   ],
   "source": [
    "plt.figure()\n",
    "plt.plot(counter_arr, integer_fix)\n",
    "plt.title('integer fix over time - 19/10/21 USA')\n",
    "plt.xlabel('points')\n",
    "plt.ylabel('integer fix')"
   ]
  },
  {
   "cell_type": "code",
   "execution_count": 18,
   "metadata": {},
   "outputs": [
    {
     "data": {
      "application/vnd.jupyter.widget-view+json": {
       "model_id": "abed3639767e4191878dc5d6795b8b3e",
       "version_major": 2,
       "version_minor": 0
      },
      "text/plain": [
       "Canvas(toolbar=Toolbar(toolitems=[('Home', 'Reset original view', 'home', 'home'), ('Back', 'Back to previous …"
      ]
     },
     "metadata": {},
     "output_type": "display_data"
    },
    {
     "data": {
      "text/plain": [
       "[<matplotlib.lines.Line2D at 0x7f63af6a8a90>]"
      ]
     },
     "execution_count": 18,
     "metadata": {},
     "output_type": "execute_result"
    }
   ],
   "source": [
    "plt.figure()\n",
    "ind1 = slice(1,len(heading_arr))\n",
    "heading_arr = heading_arr[ind1]\n",
    "plt.plot(heading_arr)"
   ]
  },
  {
   "cell_type": "code",
   "execution_count": 19,
   "metadata": {},
   "outputs": [
    {
     "name": "stdout",
     "output_type": "stream",
     "text": [
      "[32.509379342, 32.509379305, 32.509379264, 32.509379136, 32.509379107, 32.509379142, 32.50937917, 32.509379097, 32.509377924, 32.509376841, 32.509375855, 32.509375241, 32.509373938, 32.509373033, 32.509372246, 32.509371478, 32.509370436, 32.509369933, 32.509368767, 32.509368358, 32.509367454, 32.509366706, 32.509366551, 32.509365153, 32.509364536, 32.509363876, 32.50936325, 32.509362665, 32.509361253, 32.509361396, 32.509360731, 32.509359518, 32.509358625, 32.509357316, 32.509356951, 32.509356146, 32.509355242, 32.509354516, 32.509354145, 32.509352745, 32.50935224, 32.509351621, 32.509350646, 32.509349951, 32.5093498, 32.509349438, 32.509348612, 32.50934856, 32.509347939, 32.509347294, 32.509346753, 32.509346419, 32.509346108, 32.509345112, 32.509344544, 32.50934416, 32.509343283, 32.509342344, 32.509341694, 32.509341074, 32.509340777, 32.509340248, 32.50933955, 32.509339258, 32.509338858, 32.509336927, 32.50933632, 32.509335008, 32.509334285, 32.509333157, 32.509331966, 32.509331538, 32.509331003, 32.50933021, 32.509329331, 32.509328094, 32.509327041, 32.509326469, 32.509325613, 32.509325022, 32.509323938, 32.509322723, 32.509321625, 32.509321303, 32.509320501, 32.509319561, 32.509318703, 32.509318473, 32.50931775, 32.509316885, 32.509316161, 32.509315913, 32.509315166, 32.509314238, 32.509313701, 32.50931303, 32.509312641, 32.509311757, 32.509311639, 32.509310871, 32.509309995, 32.509309507, 32.509308957, 32.509308037, 32.5093073, 32.509306734, 32.509306152, 32.509305677, 32.50930474, 32.509303835, 32.509303125, 32.509302797, 32.509302309, 32.509301626, 32.509301017, 32.509300162, 32.509299234, 32.509298537, 32.509297655, 32.509296755, 32.509296547, 32.509295848, 32.509295636, 32.509294992, 32.509295214, 32.509294868, 32.509293635, 32.509292481, 32.509291281, 32.509290536, 32.509289869, 32.509289035, 32.509288646, 32.509287693, 32.509286556, 32.509285729, 32.50928438, 32.50928346, 32.509282521, 32.509281714, 32.509281378, 32.509280798, 32.509280198, 32.509279975, 32.509279483, 32.50927893, 32.509278637, 32.50927894, 32.509277737, 32.509277381, 32.509276235, 32.509276014, 32.509275599, 32.509274862, 32.509274188, 32.509273385, 32.509272927, 32.50927166, 32.509270858, 32.509270474, 32.509269094, 32.509268528, 32.509267399, 32.50926718, 32.509266788, 32.509266162, 32.509265542, 32.509265053, 32.509264273, 32.50926394, 32.509263365, 32.509262661, 32.509261684, 32.50926099, 32.509260682, 32.509259533, 32.509257356, 32.509254833, 32.509251044, 32.50924699, 32.509242899, 32.509238274, 32.509232184, 32.509226247, 32.509220372, 32.509214465, 32.509207755, 32.509201665, 32.509195568, 32.509189605, 32.509184759, 32.509180661, 32.509177101, 32.509174179, 32.509172595, 32.509171577, 32.50917095, 32.509171085, 32.509170687, 32.50917066, 32.509170507, 32.509170908, 32.50917169, 32.509172619, 32.50917319, 32.509173897, 32.509174969, 32.50917522, 32.509176711, 32.509177364, 32.509178739, 32.509179128, 32.509180019, 32.509180944, 32.50918259, 32.509183025, 32.509183729, 32.509184721, 32.509185574, 32.509186848, 32.509187171, 32.509187532, 32.509188485, 32.509189234, 32.509190291, 32.50919089, 32.509191121, 32.509192185, 32.509192916, 32.509193407, 32.50919405, 32.509194521, 32.509195343, 32.50919645, 32.509197274, 32.509197561, 32.50919801, 32.509198108, 32.509199064, 32.509199935, 32.509200508, 32.509200898, 32.509201578, 32.509202098, 32.509202898, 32.509203628, 32.509204557, 32.50920582, 32.50920638, 32.509206328, 32.509207198, 32.50920778, 32.509207723, 32.509208147, 32.509208921, 32.509209485, 32.509209603, 32.509210467, 32.509210919, 32.509211773, 32.509212508, 32.50921345, 32.509214151, 32.509215045, 32.509215497, 32.509216512, 32.509217564, 32.509218162, 32.509219107, 32.509219591, 32.509220544, 32.509221419, 32.509222522, 32.509222739, 32.509223057, 32.509223414, 32.509224774, 32.509225741, 32.509226664, 32.509227559, 32.509228061, 32.509229042, 32.509229604, 32.509230505, 32.5092311, 32.509231716, 32.509232278, 32.509232878, 32.50923308, 32.509233801, 32.509234854, 32.509234875, 32.509235661, 32.509235967, 32.509237111, 32.50923801, 32.509238461, 32.509239117, 32.50923956, 32.509240352, 32.509240889, 32.509241609, 32.509241886, 32.50924281, 32.509243954, 32.509245184, 32.509246419, 32.509247466, 32.509249001, 32.509250225, 32.509250548, 32.509250888, 32.509251531, 32.509252567, 32.50925345, 32.50925361, 32.509254763, 32.509254992, 32.509255972, 32.509256283, 32.509257138, 32.509257893, 32.509258954, 32.509259866, 32.509260617, 32.509261284, 32.509262027, 32.509262649, 32.509263032, 32.509263477, 32.50926446, 32.509264757, 32.509265359, 32.509265275, 32.509266208, 32.50926685, 32.509266896, 32.509268027, 32.50926853, 32.509269632, 32.50927024, 32.50927112, 32.509272125, 32.509272798, 32.509273499, 32.509274293, 32.509274972, 32.509275866, 32.509276792, 32.509277635, 32.50927836, 32.509278736, 32.509279312, 32.509279953, 32.509280645, 32.509281172, 32.509281916, 32.509282083, 32.509283058, 32.509283291, 32.509283675, 32.509284086, 32.509284359, 32.509284787, 32.509284862, 32.509284859, 32.50928487, 32.50928466, 32.509283772, 32.509282652, 32.509280705, 32.509278146, 32.509275079, 32.509271175, 32.509266781, 32.509261483, 32.509256238, 32.509250103, 32.509243554, 32.509237267, 32.509231152, 32.50922532, 32.509220011, 32.509214988, 32.509210502, 32.509206881, 32.509203558, 32.509200739, 32.509198617, 32.509197194, 32.509196101, 32.509194925, 32.509193648, 32.509193385, 32.509192388, 32.509191699, 32.509191369, 32.50919097, 32.509190331, 32.50918999, 32.509189471, 32.509188883, 32.509188369, 32.50918834, 32.509187654, 32.509187067, 32.509186298, 32.509185541, 32.509184374, 32.509184118, 32.509183561, 32.509183341, 32.509182795, 32.509181582, 32.509180762, 32.509179872, 32.5091787, 32.509177126, 32.509176366, 32.509175941, 32.509175388, 32.509174792, 32.509173594, 32.509173, 32.50917207, 32.509170899, 32.509169793, 32.509168906, 32.509167044, 32.509165678, 32.509164776, 32.509163625, 32.509163178, 32.509162189, 32.509160891, 32.509160189, 32.509158657, 32.509157392, 32.509156228, 32.50915519, 32.509154766, 32.509153888, 32.509152394, 32.509151486, 32.509150556, 32.509149858, 32.509148995, 32.509148441, 32.509147795, 32.509146783, 32.509145773, 32.509144365, 32.509143194, 32.509142189, 32.509140757, 32.509139796, 32.509138891, 32.509137856, 32.509136843, 32.509135594, 32.509134239, 32.509133108, 32.50913211, 32.509130959, 32.509130308, 32.509129057, 32.509128315, 32.509127494, 32.509126446, 32.509125362, 32.509124887, 32.509124252, 32.50912358, 32.509122865, 32.509121994, 32.509121014, 32.509119969, 32.509119104, 32.509118291, 32.509117537, 32.509116586, 32.50911563, 32.509114134, 32.509112937, 32.50911192, 32.509110664, 32.509109858, 32.509108584, 32.509107702, 32.509106965, 32.509105845, 32.5091048, 32.509103661, 32.50910262, 32.509102396, 32.509101903, 32.509101231, 32.509101053, 32.509100251, 32.509099048, 32.509097831, 32.509096894, 32.509095641, 32.509094838, 32.509093409, 32.509092136, 32.509089976, 32.509089161, 32.509088694, 32.509087241, 32.509086418, 32.509085602, 32.509083867, 32.509082909, 32.509082039, 32.509081327, 32.50908116, 32.50908028, 32.509079123, 32.509077336, 32.509074471, 32.509071146, 32.509066391, 32.509059951, 32.509052592, 32.5090448, 32.509036305, 32.509028195, 32.509020651, 32.50901377, 32.509006818, 32.509001024, 32.508996634, 32.508993678, 32.508991704, 32.508990143, 32.508990903, 32.508991745, 32.508992973, 32.50899389, 32.508995078, 32.508996274, 32.50899786, 32.508999263, 32.508999823, 32.508999649, 32.509000317, 32.509000814, 32.509001654, 32.509002281, 32.509003454, 32.509004462, 32.509005568, 32.509006204, 32.50900719, 32.509008158, 32.509009226, 32.509010431, 32.509011105, 32.509011028, 32.50901084, 32.509012146, 32.509012477, 32.509014672, 32.509015158, 32.509015552, 32.509016493, 32.509017165, 32.509018605, 32.509019581, 32.509020559, 32.509021743, 32.509022583, 32.509024373, 32.509024931, 32.509025745, 32.509026733, 32.509027474, 32.509028479, 32.509029985, 32.509030579, 32.509031665, 32.509032279, 32.509033228, 32.509033552, 32.509034692, 32.509035858, 32.509036102, 32.509036863, 32.509037322, 32.509038448, 32.509039562, 32.509040515, 32.509041685, 32.509042541, 32.509043052, 32.509044461, 32.509044717, 32.509045001, 32.509045454, 32.509046394, 32.509047838, 32.509048768, 32.509050113, 32.509051425, 32.50905273, 32.509053465, 32.509054224, 32.50905531, 32.509056338, 32.509057357, 32.509058123, 32.509058915, 32.509060145, 32.509060882, 32.509062135, 32.509062643, 32.509063575, 32.509064587, 32.509064932, 32.509066141, 32.509067075, 32.509068568, 32.509070079, 32.509070629, 32.509071669, 32.509072511, 32.509073829, 32.509074258, 32.509075415, 32.509076265, 32.509077132, 32.509078214, 32.509079166, 32.50908022, 32.509081629, 32.509083141, 32.509084141, 32.509084905, 32.509085557, 32.509086813, 32.509087679, 32.509088514, 32.509089332, 32.50909003, 32.509090701, 32.509091845, 32.509092327, 32.509093879, 32.509094758, 32.509095477, 32.509095979, 32.509096229, 32.509097062, 32.50909788, 32.509098862, 32.509100035, 32.509100283, 32.509100801, 32.509100908, 32.509101299, 32.509101674, 32.509101992, 32.509101742, 32.509101389, 32.509100458, 32.509099668, 32.509098916, 32.509099823, 32.509101827, 32.509105723, 32.509110539, 32.50911759, 32.509125108, 32.509131977, 32.509139818, 32.509147618, 32.509154295, 32.509160499, 32.509164376, 32.509166952, 32.50916836, 32.509167234, 32.509164757, 32.509161757, 32.509157824, 32.509154149, 32.509150671, 32.509147351, 32.509144562, 32.509142782, 32.509141551, 32.50914046, 32.509138925, 32.509139032, 32.5091391, 32.509139246, 32.509139755, 32.509139722, 32.509139802, 32.509139581, 32.509139156, 32.509139607, 32.509139631, 32.50913995, 32.509139416, 32.509138629, 32.509137702, 32.509137394, 32.509136828, 32.509136492, 32.50913614, 32.509135435, 32.509134969, 32.509134438, 32.509133386, 32.509132788, 32.509131738, 32.509130715, 32.509130071, 32.509129004, 32.509128029, 32.509127264, 32.509126173, 32.509125306, 32.509124433, 32.509123532, 32.509122559, 32.509121449, 32.509120256, 32.509120134, 32.50912016, 32.509118165, 32.509116431, 32.509115177, 32.509114224, 32.509113271, 32.509112246, 32.509111525, 32.509110536, 32.509108976, 32.50910798, 32.509106926, 32.509106236, 32.509105076, 32.509104319, 32.50910334, 32.509102579, 32.509101464, 32.509101389, 32.50910079, 32.509099702, 32.509099465, 32.509099265, 32.509098487, 32.509098004, 32.509097964, 32.509097929, 32.509097934, 32.50909803, 32.50909807, 32.50909785, 32.509097644, 32.509097112, 32.509096821, 32.509096699, 32.509095264, 32.509094378, 32.509092813, 32.509091852, 32.50909071, 32.509089197, 32.50908789, 32.5090865, 32.509085722, 32.5090842, 32.509083239, 32.509081825, 32.509080843, 32.509079995, 32.50907923, 32.5090782, 32.509077143, 32.509076339, 32.509075906, 32.509074822, 32.50907383, 32.509073073, 32.50907272, 32.509071704, 32.509070105, 32.509069712, 32.509068849, 32.509067747, 32.509066487, 32.509065133, 32.509063814, 32.509062774, 32.509062331, 32.509061411, 32.509060456, 32.509059825, 32.509058839, 32.509058205, 32.50905738, 32.509056485, 32.509055933, 32.509054927, 32.509053805, 32.509052453, 32.509051282, 32.509050702, 32.509049813, 32.509048411, 32.509047463, 32.509046946, 32.509046213, 32.509044947, 32.509044727, 32.50904354, 32.509042786, 32.509041682, 32.509040701, 32.509039953, 32.509040097, 32.509039224, 32.509039588, 32.509040062, 32.509040896, 32.509044931, 32.509049928, 32.509056255, 32.509064425, 32.509073095, 32.509082358, 32.50909093, 32.509098973, 32.509106031, 32.509112084, 32.509116446, 32.509119859, 32.509122534, 32.509123217, 32.509124274, 32.509124892, 32.509125523, 32.509126197, 32.509126341, 32.509126982, 32.509128139, 32.509129578, 32.509130582, 32.509131755, 32.509132644, 32.509133868, 32.509134782, 32.509135666, 32.509136043, 32.509137174, 32.509137755, 32.5091393, 32.509140366, 32.509141112, 32.509141315, 32.509142014, 32.509142451, 32.509143191, 32.509144463, 32.509145403, 32.509146773, 32.509147641, 32.509148282, 32.50914918, 32.509149889, 32.509150715, 32.509151879, 32.509153277, 32.509154466, 32.509155229, 32.509155918, 32.50915695, 32.509158239, 32.509158156, 32.50915873, 32.509159688, 32.509160779, 32.509162054, 32.509162916, 32.509163571, 32.509164222, 32.50916559, 32.509166797, 32.509167362, 32.509168332, 32.50916918, 32.509170291, 32.509171363, 32.509172204, 32.509173232, 32.509174197, 32.509175454, 32.509177344, 32.509178049, 32.50917881, 32.509179369, 32.509180617, 32.509180857, 32.509181742, 32.509182186, 32.509182619, 32.509184176, 32.509185043, 32.509185759, 32.509187179, 32.509188432, 32.509189506, 32.509190542, 32.50919207, 32.509193085, 32.509194557, 32.509195109, 32.50919572, 32.509196512, 32.509197325, 32.509198006, 32.509199272, 32.509200176, 32.509200532, 32.509201318, 32.509202878, 32.509204259, 32.509204767, 32.509206014, 32.509207219, 32.509208489, 32.509209539, 32.509210369, 32.509211189, 32.50921201, 32.509213291, 32.509214645, 32.509215826, 32.509217005, 32.509217853, 32.509218218, 32.509219174, 32.509219952, 32.509220889, 32.509221734, 32.509223026, 32.509223803, 32.509224515, 32.509225576, 32.509226672, 32.509227353, 32.509228088, 32.509228504, 32.509229415, 32.509229997, 32.509231057, 32.509231712, 32.509232569, 32.509233329, 32.509234549, 32.509235955, 32.509237306, 32.509238179, 32.509238807, 32.509239695, 32.509241109, 32.509243593, 32.509246699, 32.509251039, 32.509256198, 32.509262334, 32.50926934, 32.509277646, 32.50928606, 32.509294725, 32.509302069, 32.50931016, 32.509317072, 32.509322245, 32.50932585, 32.509328561, 32.509329563, 32.509329901, 32.509329698, 32.509329359, 32.509329098, 32.50932903, 32.509328983, 32.509329144, 32.509329108, 32.509329203, 32.509329747, 32.5093295, 32.509328698, 32.509327008, 32.509326008, 32.509324314, 32.509322306, 32.509321347, 32.509321298, 32.509320467, 32.509320408, 32.509320223, 32.509320165, 32.509319346, 32.509318726, 32.509318238, 32.509318014, 32.509317635, 32.509317191, 32.509316404, 32.509315681, 32.509314415, 32.509313469, 32.509312167, 32.509310997, 32.509309674, 32.509308239, 32.509307389, 32.509306608, 32.509305638, 32.509304486, 32.509303718, 32.509302414, 32.509301787, 32.509301017, 32.50930033, 32.509299325, 32.509298465, 32.509297275, 32.509296218, 32.509295102, 32.50929515, 32.509294698, 32.509292963, 32.509291358, 32.509290488, 32.509289129, 32.509288, 32.509287236, 32.509286409, 32.509285405, 32.509283967, 32.50928323, 32.509282578, 32.509281836, 32.509281317, 32.509280309, 32.509279714, 32.509279045, 32.509278186, 32.509277363, 32.509276212, 32.509274974, 32.509273774, 32.50927279, 32.509271817, 32.509270576, 32.509269938, 32.509269081, 32.509268131, 32.509266921, 32.50926572, 32.509265104, 32.509264372, 32.509263481, 32.509262632, 32.509262008, 32.509261178, 32.50926028, 32.509259269, 32.509258589, 32.509257185, 32.509256425, 32.509255263, 32.509254289, 32.509253582, 32.50925334, 32.509252825, 32.509252379, 32.509251326, 32.509250367, 32.509249734, 32.509248159, 32.509247008, 32.50924648, 32.509246067, 32.509245287, 32.509244094, 32.509243014, 32.509242328, 32.509241217, 32.509240619, 32.509240107, 32.509239522, 32.5092384, 32.509237259, 32.509236231, 32.509235531, 32.509234744, 32.509233778, 32.509232697, 32.5092317, 32.509230533, 32.5092299, 32.509228946, 32.50922826, 32.509227699, 32.509226436, 32.509224796, 32.509224188, 32.509222793, 32.509220954, 32.509219196, 32.509217481, 32.50921612, 32.509215913, 32.509216041, 32.509215892, 32.509215712, 32.509215642, 32.509215596]\n"
     ]
    }
   ],
   "source": [
    "import base64\n",
    "import pandas as pd\n",
    "from IPython.display import HTML\n",
    "\n",
    "x_arr_latlong_new = []\n",
    "y_arr_latlong_new = []\n",
    "\n",
    "for i in range(len(x_arr_latlong)):\n",
    "    if not i % 10:\n",
    "        x_arr_latlong_new.append(x_arr_latlong[i])\n",
    "        y_arr_latlong_new.append(y_arr_latlong[i])\n",
    "\n",
    "print(x_arr_latlong_new)"
   ]
  },
  {
   "cell_type": "code",
   "execution_count": 20,
   "metadata": {},
   "outputs": [],
   "source": [
    "csv_df.iloc[::10, :][['Latitude','Longitude']].apply(lambda x: x/100).to_csv(\"~/yanir.csv\") #possibly the coolest thing ive ever seen"
   ]
  },
  {
   "cell_type": "code",
   "execution_count": 21,
   "metadata": {},
   "outputs": [],
   "source": [
    "csv_df.iloc[::, :][['Latitude','Longitude']].to_csv(\"~/NIR.csv\") #possibly the coolest thing ive ever seen"
   ]
  }
 ],
 "metadata": {
  "kernelspec": {
   "display_name": "Python 3",
   "language": "python",
   "name": "python3"
  },
  "language_info": {
   "codemirror_mode": {
    "name": "ipython",
    "version": 3
   },
   "file_extension": ".py",
   "mimetype": "text/x-python",
   "name": "python",
   "nbconvert_exporter": "python",
   "pygments_lexer": "ipython3",
   "version": "3.6.9"
  }
 },
 "nbformat": 4,
 "nbformat_minor": 5
}
