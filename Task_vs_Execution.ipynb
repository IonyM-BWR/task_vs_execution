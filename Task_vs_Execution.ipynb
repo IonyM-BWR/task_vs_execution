{
 "cells": [
  {
   "cell_type": "code",
   "execution_count": 1,
   "metadata": {},
   "outputs": [],
   "source": [
    "import matplotlib.pyplot as plt\n",
    "import numpy as np\n",
    "\n",
    "# Local\n",
    "from evaluation_classes import RecordedPath, TaskPath, PathPlotter, HLCPath\n",
    "from evaluation_tools import PATHTYPES"
   ]
  },
  {
   "cell_type": "code",
   "execution_count": 2,
   "metadata": {},
   "outputs": [
    {
     "name": "stdout",
     "output_type": "stream",
     "text": [
      "\n",
      "TaskPath instance created\n",
      "Origin coordinates defined\n",
      "json task loaded | 417 waypoints loaded\n",
      "\n",
      "TaskPath instance created\n",
      "Origin coordinates defined\n",
      "json task loaded | 253 waypoints loaded\n"
     ]
    }
   ],
   "source": [
    "tp1 = TaskPath()\n",
    "tp1.load_jsontask(\"Binyamina/block_7_20.1_7_points.json\")\n",
    "tp2 = TaskPath()\n",
    "tp2.load_jsontask(\"Binyamina/current_task_block_7_lidar_rtk_v1.6.json\")"
   ]
  },
  {
   "cell_type": "code",
   "execution_count": 3,
   "metadata": {},
   "outputs": [
    {
     "name": "stdout",
     "output_type": "stream",
     "text": [
      "HLC created\n",
      "\n",
      "path set with (461, 2) waypoints\n",
      "path type set as LOWRES_PATH\n",
      "LOWRES_PATH path loaded with 461 waypoints\n"
     ]
    }
   ],
   "source": [
    "lowres_local_path = HLCPath()\n",
    "print()\n",
    "lowres_local_path.load_path_fromcsv(path_to_csv_=\"LOWRES_PATH_11:47:09.csv\", path_type_=PATHTYPES.LOWRES_PATH)"
   ]
  },
  {
   "cell_type": "code",
   "execution_count": null,
   "metadata": {},
   "outputs": [],
   "source": [
    "rp1 = RecordedPath()\n",
    "rp1.load_recording(\"Binyamina/10.01/block8rtk2.csv\")"
   ]
  },
  {
   "cell_type": "code",
   "execution_count": null,
   "metadata": {},
   "outputs": [],
   "source": [
    "rp1.get_latlon_path_forplot()"
   ]
  },
  {
   "cell_type": "code",
   "execution_count": null,
   "metadata": {},
   "outputs": [],
   "source": [
    "pp = PathPlotter()"
   ]
  },
  {
   "cell_type": "code",
   "execution_count": null,
   "metadata": {},
   "outputs": [],
   "source": [
    "pp.add_taskpath(tp1)\n",
    "print()\n",
    "pp.add_taskpath(tp2)"
   ]
  },
  {
   "cell_type": "code",
   "execution_count": null,
   "metadata": {},
   "outputs": [],
   "source": [
    "pp.plot_all_tasks()"
   ]
  },
  {
   "cell_type": "code",
   "execution_count": null,
   "metadata": {},
   "outputs": [],
   "source": [
    "pp.plot_selected_task()"
   ]
  },
  {
   "cell_type": "code",
   "execution_count": null,
   "metadata": {},
   "outputs": [],
   "source": [
    "pp.list_all_taskpaths()"
   ]
  },
  {
   "cell_type": "code",
   "execution_count": null,
   "metadata": {
    "scrolled": true
   },
   "outputs": [],
   "source": [
    "ax = plt.axes()\n",
    "\n",
    "task_for_plot = tp1.get_latlon_path_forplot()\n",
    "ax.axis(\"equal\")\n",
    "ax.plot(task_for_plot[0], task_for_plot[1],'-',color='darkblue')"
   ]
  },
  {
   "cell_type": "code",
   "execution_count": null,
   "metadata": {},
   "outputs": [],
   "source": [
    "# Scenario definitions\n",
    "n_points = 20\n",
    "row_width = round(21/3.3)\n",
    "\n",
    "# Tractor variables\n",
    "speeds = [0.5,1,3,4,5,6]\n",
    "\n",
    "# Pure pursuit parameters\n",
    "goal_pose_distance = 4.5\n",
    "sine_poses = np.array([goal_pose_distance*np.ones(n_points), np.sin(np.linspace(0, 2*np.pi, n_points))]).transpose()\n",
    "goal_poses = sine_poses\n",
    "Kpps = np.linspace(0.1,2,5)\n",
    "\n",
    "# Plotting scenario\n",
    "x = sine_poses[:,0]\n",
    "x2 = np.linspace(1,10,n_points)\n",
    "y = sine_poses[:,1]\n",
    "\n",
    "fig, ax = plt.subplots()\n",
    "ax.plot(y,x2,\"-o\")\n",
    "# Axis treatment\n",
    "plt.ylabel('X axis'),plt.xlabel('Y axis')\n",
    "ax.invert_xaxis()\n",
    "plt.xlim([-row_width,row_width])\n",
    "\n",
    "#Overall plot treatment\n",
    "plt.title(\"Different goal pose positions\")\n",
    "plt.grid()\n",
    "\n",
    "plt.show()\n",
    "# print('Sine poses (x, y)\\n',sine_poses)"
   ]
  }
 ],
 "metadata": {
  "interpreter": {
   "hash": "31f2aee4e71d21fbe5cf8b01ff0e069b9275f58929596ceb00d14d90e3e16cd6"
  },
  "kernelspec": {
   "display_name": "Python 3",
   "language": "python",
   "name": "python3"
  },
  "language_info": {
   "codemirror_mode": {
    "name": "ipython",
    "version": 3
   },
   "file_extension": ".py",
   "mimetype": "text/x-python",
   "name": "python",
   "nbconvert_exporter": "python",
   "pygments_lexer": "ipython3",
   "version": "3.6.9"
  }
 },
 "nbformat": 4,
 "nbformat_minor": 4
}
