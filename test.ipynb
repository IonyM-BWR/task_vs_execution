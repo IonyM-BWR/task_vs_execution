{
 "cells": [
  {
   "cell_type": "code",
   "execution_count": 2,
   "metadata": {},
   "outputs": [
    {
     "name": "stderr",
     "output_type": "stream",
     "text": [
      "Failed to load Python extension for LZ4 support. LZ4 compression will not be available.\n"
     ]
    },
    {
     "name": "stdout",
     "output_type": "stream",
     "text": [
      "Python older than 3.7 detected. \n"
     ]
    }
   ],
   "source": [
    "import os\n",
    "import pandas as pd\n",
    "\n",
    "from bagpy import bagreader"
   ]
  },
  {
   "cell_type": "code",
   "execution_count": 6,
   "metadata": {},
   "outputs": [
    {
     "name": "stdout",
     "output_type": "stream",
     "text": [
      "[INFO]  Data folder /home/iony/Documents/mark-events/IL/binyamina/02_feb/mark_event1_081352/event_020422_081352_413714 already exists. Not creating.\n"
     ]
    }
   ],
   "source": [
    "country = \"IL\"\n",
    "ranch = \"binyamina\"\n",
    "date = \"02_feb\" # dd_mmm\n",
    "directory = os.path.join(\"/home/iony/Documents/mark-events\",country,ranch,date)\n",
    "filename = os.path.join(\"mark_event1_081352\",\"event_020422_081352_413714\"+\".bag\")\n",
    "bag_path = os.path.join(directory,filename)\n",
    "\n",
    "b = bagreader(bag_path)"
   ]
  },
  {
   "cell_type": "code",
   "execution_count": 7,
   "metadata": {},
   "outputs": [
    {
     "data": {
      "text/plain": [
       "dict_keys(['/activity_info', '/activity_type', '/arduino_request', '/control/highres_markers', '/control/lowres_markers', '/cpu_temp', '/cpu_usage', '/data2ard', '/data_from_ard', '/diagnostics_agg', '/diagnostics_toplevel_state', '/gnss/feedback', '/gnss/maia/feedback', '/gnss/maia/goal', '/gnss/maia/result', '/gnss/maia/status', '/gnss/status', '/gnss_distance', '/gnss_state', '/gx5/gnss1/aiding_status', '/gx5/gnss1/fix', '/gx5/gnss1/odom', '/gx5/gnss2/aiding_status', '/gx5/gnss2/fix', '/gx5/gnss2/odom', '/gx5/imu/data', '/gx5/mag', '/gx5/nav/filtered_imu/data', '/gx5/nav/heading', '/gx5/nav/heading_state', '/gx5/nav/odom', '/gx5/nav/status', '/gx5/rtk/status', '/media_server/FRONT/camera_info', '/media_server/FRONT/image_raw', '/microstrain_odom', '/middle_finder_node/goal_points', '/original_points', '/os_cloud_node/imu', '/os_node/imu_packets', '/os_node/lidar_packets', '/perception_info', '/rosout', '/rosout_agg', '/safety', '/safety_info', '/tf', '/trunks_finder_node/left_box_marker_0', '/trunks_finder_node/pcl_filtered_0', '/trunks_finder_node/perception_state', '/trunks_finder_node/right_box_marker_0', '/trunks_finder_node/trunks_pose_array', '/turn_state'])"
      ]
     },
     "execution_count": 7,
     "metadata": {},
     "output_type": "execute_result"
    }
   ],
   "source": [
    "b.topics"
   ]
  },
  {
   "cell_type": "code",
   "execution_count": 22,
   "metadata": {},
   "outputs": [],
   "source": [
    "topic = \"/tf\"\n",
    "tf_csv = b.message_by_topic(topic)\n",
    "tf_odom_df = pd.read_csv(tf_csv)"
   ]
  },
  {
   "cell_type": "code",
   "execution_count": 31,
   "metadata": {},
   "outputs": [
    {
     "name": "stdout",
     "output_type": "stream",
     "text": [
      "[header: \n",
      "  seq: 0\n",
      "  stamp: \n",
      "    secs: 1643962402\n",
      "    nsecs: 431504964\n",
      "  frame_id: \"ned\"\n",
      "child_frame_id: \"POS_REF\"\n",
      "transform: \n",
      "  translation: \n",
      "    x: 5.491049233383548\n",
      "    y: 107.15832974494622\n",
      "    z: 0.0\n",
      "  rotation: \n",
      "    x: -0.014889801852405071\n",
      "    y: -0.005511842668056488\n",
      "    z: 0.6845806241035461\n",
      "    w: 0.7287642359733582]\n",
      "[header: \n",
      "  seq: 0\n",
      "  stamp: \n",
      "    secs: 1643962402\n",
      "    nsecs: 431504964\n",
      "  frame_id: \"ned\"\n",
      "child_frame_id: \"map\"\n",
      "transform: \n",
      "  translation: \n",
      "    x: 0.0\n",
      "    y: 0.0\n",
      "    z: 0.0\n",
      "  rotation: \n",
      "    x: 1.0\n",
      "    y: 0.0\n",
      "    z: 0.0\n",
      "    w: 6.123233995736766e-17]\n",
      "[header: \n",
      "  seq: 0\n",
      "  stamp: \n",
      "    secs: 1643962402\n",
      "    nsecs: 431504964\n",
      "  frame_id: \"POS_REF\"\n",
      "child_frame_id: \"base_link\"\n",
      "transform: \n",
      "  translation: \n",
      "    x: 0.0\n",
      "    y: 0.0\n",
      "    z: 0.0\n",
      "  rotation: \n",
      "    x: 1.0\n",
      "    y: 0.0\n",
      "    z: 0.0\n",
      "    w: 6.123233995736766e-17]\n",
      "[header: \n",
      "  seq: 0\n",
      "  stamp: \n",
      "    secs: 1643962402\n",
      "    nsecs: 433897018\n",
      "  frame_id: \"ned\"\n",
      "child_frame_id: \"POS_REF\"\n",
      "transform: \n",
      "  translation: \n",
      "    x: 5.491049233383548\n",
      "    y: 107.15832974494622\n",
      "    z: 0.0\n",
      "  rotation: \n",
      "    x: -0.014889801852405071\n",
      "    y: -0.005511842668056488\n",
      "    z: 0.6845806241035461\n",
      "    w: 0.7287642359733582]\n",
      "[header: \n",
      "  seq: 0\n",
      "  stamp: \n",
      "    secs: 1643962402\n",
      "    nsecs: 433897018\n",
      "  frame_id: \"ned\"\n",
      "child_frame_id: \"map\"\n",
      "transform: \n",
      "  translation: \n",
      "    x: 0.0\n",
      "    y: 0.0\n",
      "    z: 0.0\n",
      "  rotation: \n",
      "    x: 1.0\n",
      "    y: 0.0\n",
      "    z: 0.0\n",
      "    w: 6.123233995736766e-17]\n",
      "[header: \n",
      "  seq: 0\n",
      "  stamp: \n",
      "    secs: 1643962402\n",
      "    nsecs: 433897018\n",
      "  frame_id: \"POS_REF\"\n",
      "child_frame_id: \"base_link\"\n",
      "transform: \n",
      "  translation: \n",
      "    x: 0.0\n",
      "    y: 0.0\n",
      "    z: 0.0\n",
      "  rotation: \n",
      "    x: 1.0\n",
      "    y: 0.0\n",
      "    z: 0.0\n",
      "    w: 6.123233995736766e-17]\n",
      "[header: \n",
      "  seq: 0\n",
      "  stamp: \n",
      "    secs: 1643962402\n",
      "    nsecs: 477375030\n",
      "  frame_id: \"ned\"\n",
      "child_frame_id: \"POS_REF\"\n",
      "transform: \n",
      "  translation: \n",
      "    x: 5.49026763917809\n",
      "    y: 107.21318348958093\n",
      "    z: 0.0\n",
      "  rotation: \n",
      "    x: -0.01445602998137474\n",
      "    y: -0.005125832743942738\n",
      "    z: 0.6844586730003357\n",
      "    w: 0.7288902997970581]\n",
      "[header: \n",
      "  seq: 0\n",
      "  stamp: \n",
      "    secs: 1643962402\n",
      "    nsecs: 477375030\n",
      "  frame_id: \"ned\"\n",
      "child_frame_id: \"map\"\n",
      "transform: \n",
      "  translation: \n",
      "    x: 0.0\n",
      "    y: 0.0\n",
      "    z: 0.0\n",
      "  rotation: \n",
      "    x: 1.0\n",
      "    y: 0.0\n",
      "    z: 0.0\n",
      "    w: 6.123233995736766e-17]\n",
      "[header: \n",
      "  seq: 0\n",
      "  stamp: \n",
      "    secs: 1643962402\n",
      "    nsecs: 477375030\n",
      "  frame_id: \"POS_REF\"\n",
      "child_frame_id: \"base_link\"\n",
      "transform: \n",
      "  translation: \n",
      "    x: 0.0\n",
      "    y: 0.0\n",
      "    z: 0.0\n",
      "  rotation: \n",
      "    x: 1.0\n",
      "    y: 0.0\n",
      "    z: 0.0\n",
      "    w: 6.123233995736766e-17]\n",
      "[header: \n",
      "  seq: 0\n",
      "  stamp: \n",
      "    secs: 1643962402\n",
      "    nsecs: 480571031\n",
      "  frame_id: \"ned\"\n",
      "child_frame_id: \"POS_REF\"\n",
      "transform: \n",
      "  translation: \n",
      "    x: 5.49026763917809\n",
      "    y: 107.21318348958093\n",
      "    z: 0.0\n",
      "  rotation: \n",
      "    x: -0.01445602998137474\n",
      "    y: -0.005125832743942738\n",
      "    z: 0.6844586730003357\n",
      "    w: 0.7288902997970581]\n"
     ]
    }
   ],
   "source": [
    "# print(tf_odom_df['transforms'][0])\n",
    "for i in range(10):\n",
    "    print(tf_odom_df['transforms'][i])"
   ]
  },
  {
   "cell_type": "code",
   "execution_count": 20,
   "metadata": {},
   "outputs": [
    {
     "name": "stdout",
     "output_type": "stream",
     "text": [
      "[header: \n",
      "  seq: 0\n",
      "  stamp: \n",
      "    secs: 1643962402\n",
      "    nsecs: 431504964\n",
      "  frame_id: \"ned\"\n",
      "child_frame_id: \"map\"\n",
      "transform: \n",
      "  translation: \n",
      "    x: 0.0\n",
      "    y: 0.0\n",
      "    z: 0.0\n",
      "  rotation: \n",
      "    x: 1.0\n",
      "    y: 0.0\n",
      "    z: 0.0\n",
      "    w: 6.123233995736766e-17]\n"
     ]
    }
   ],
   "source": [
    "# print(tf_odom_df['transforms'][0])\n",
    "print(tf_odom_df['transforms'][1])"
   ]
  },
  {
   "cell_type": "code",
   "execution_count": 21,
   "metadata": {},
   "outputs": [
    {
     "name": "stdout",
     "output_type": "stream",
     "text": [
      "[header: \n",
      "  seq: 0\n",
      "  stamp: \n",
      "    secs: 1643962402\n",
      "    nsecs: 431504964\n",
      "  frame_id: \"ned\"\n",
      "child_frame_id: \"POS_REF\"\n",
      "transform: \n",
      "  translation: \n",
      "    x: 5.491049233383548\n",
      "    y: 107.15832974494622\n",
      "    z: 0.0\n",
      "  rotation: \n",
      "    x: -0.014889801852405071\n",
      "    y: -0.005511842668056488\n",
      "    z: 0.6845806241035461\n",
      "    w: 0.7287642359733582]\n"
     ]
    }
   ],
   "source": [
    "print(tf_odom_df['transforms'][0])"
   ]
  },
  {
   "cell_type": "code",
   "execution_count": 11,
   "metadata": {},
   "outputs": [
    {
     "name": "stdout",
     "output_type": "stream",
     "text": [
      "Index(['Time', 'header.seq', 'header.stamp.secs', 'header.stamp.nsecs',\n",
      "       'header.frame_id', 'child_frame_id', 'pose.pose.position.x',\n",
      "       'pose.pose.position.y', 'pose.pose.position.z',\n",
      "       'pose.pose.orientation.x', 'pose.pose.orientation.y',\n",
      "       'pose.pose.orientation.z', 'pose.pose.orientation.w', 'pose.covariance',\n",
      "       'twist.twist.linear.x', 'twist.twist.linear.y', 'twist.twist.linear.z',\n",
      "       'twist.twist.angular.x', 'twist.twist.angular.y',\n",
      "       'twist.twist.angular.z', 'twist.covariance'],\n",
      "      dtype='object')\n",
      "Index(['Time', 'header.seq', 'header.stamp.secs', 'header.stamp.nsecs',\n",
      "       'header.frame_id', 'child_frame_id', 'Latitude', 'Longitude'],\n",
      "      dtype='object')\n"
     ]
    }
   ],
   "source": [
    "b.topic_table\n",
    "topic = \"/gx5/nav/odom\"\n",
    "ins_odom_csv = b.message_by_topic(topic) # creates a csv of the topic data\n",
    "ins_odom_df = pd.read_csv(ins_odom_csv)\n",
    "\n",
    "ins_odom_df.rename(columns={'pose.pose.position.x': 'Latitude', 'pose.pose.position.y': 'Longitude'}, inplace=True)\n",
    "ins_odom_df.drop(\n",
    "    columns=['pose.pose.position.z', 'pose.pose.orientation.x', 'pose.pose.orientation.y', 'pose.pose.orientation.z', 'pose.pose.orientation.w', 'pose.covariance',\n",
    "    'twist.twist.linear.x', 'twist.twist.linear.y', 'twist.twist.linear.z', 'twist.twist.angular.x', 'twist.twist.angular.y', 'twist.twist.angular.z', 'twist.covariance'],\n",
    "    axis=1,\n",
    "    inplace=True)"
   ]
  }
 ],
 "metadata": {
  "interpreter": {
   "hash": "31f2aee4e71d21fbe5cf8b01ff0e069b9275f58929596ceb00d14d90e3e16cd6"
  },
  "kernelspec": {
   "display_name": "Python 3",
   "language": "python",
   "name": "python3"
  },
  "language_info": {
   "codemirror_mode": {
    "name": "ipython",
    "version": 3
   },
   "file_extension": ".py",
   "mimetype": "text/x-python",
   "name": "python",
   "nbconvert_exporter": "python",
   "pygments_lexer": "ipython3",
   "version": "3.6.9"
  }
 },
 "nbformat": 4,
 "nbformat_minor": 2
}
